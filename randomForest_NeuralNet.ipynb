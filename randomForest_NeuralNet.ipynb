{
  "nbformat": 4,
  "nbformat_minor": 0,
  "metadata": {
    "colab": {
      "provenance": [],
      "authorship_tag": "ABX9TyNCY1tU4YpID7kjZpNfidsU",
      "include_colab_link": true
    },
    "kernelspec": {
      "name": "python3",
      "display_name": "Python 3"
    },
    "language_info": {
      "name": "python"
    }
  },
  "cells": [
    {
      "cell_type": "markdown",
      "metadata": {
        "id": "view-in-github",
        "colab_type": "text"
      },
      "source": [
        "<a href=\"https://colab.research.google.com/github/JulianaCarvajal/Spaceship_Titanic/blob/workOnPreprocess%2FBustamJos3/randomForest_NeuralNet.ipynb\" target=\"_parent\"><img src=\"https://colab.research.google.com/assets/colab-badge.svg\" alt=\"Open In Colab\"/></a>"
      ]
    },
    {
      "cell_type": "code",
      "execution_count": 1,
      "metadata": {
        "id": "CfYvJ8omde9Z"
      },
      "outputs": [],
      "source": [
        "import pandas as pd #libraries\n",
        "import numpy as np\n",
        "from sklearn.model_selection import train_test_split # import train_test split function\n",
        "from sklearn.model_selection import GridSearchCV # hyperparameter getter\n",
        "from sklearn.ensemble import RandomForestClassifier #import RandomForest\n",
        "from sklearn import metrics\n",
        "import seaborn as sns #visualization\n",
        "import matplotlib.pyplot as plt\n",
        "%matplotlib inline"
      ]
    },
    {
      "cell_type": "markdown",
      "source": [
        "# Working online"
      ],
      "metadata": {
        "id": "xdWia5CsCdhD"
      }
    },
    {
      "cell_type": "code",
      "source": [
        "X, y=pd.read_json(\"https://raw.githubusercontent.com/JulianaCarvajal/Spaceship_Titanic/workOnPreprocess/BustamJos3/pprocessedX.json\",orient='index').values, pd.read_json(\"https://raw.githubusercontent.com/JulianaCarvajal/Spaceship_Titanic/workOnPreprocess/BustamJos3/pprocessedy.json\",orient='index').values.flatten()"
      ],
      "metadata": {
        "id": "Q9er2X_oCf4I"
      },
      "execution_count": 2,
      "outputs": []
    },
    {
      "cell_type": "markdown",
      "source": [
        "# End of working online"
      ],
      "metadata": {
        "id": "kH1A9mVEChVg"
      }
    },
    {
      "cell_type": "markdown",
      "source": [
        "# Working local"
      ],
      "metadata": {
        "id": "MprKyTcZCknJ"
      }
    },
    {
      "cell_type": "code",
      "source": [
        "X, y=pd.read_json(\"pprocessedX.json\",orient='index').values, pd.read_json(\"pprocessedy.json\",orient='index').values"
      ],
      "metadata": {
        "id": "a9vAL8UdCyj-"
      },
      "execution_count": null,
      "outputs": []
    },
    {
      "cell_type": "markdown",
      "source": [
        "# End of working local"
      ],
      "metadata": {
        "id": "ML_5HnXtCy7S"
      }
    },
    {
      "cell_type": "markdown",
      "source": [
        "### Train-Test splitting\n",
        "I think ```splitting``` shoulb be **on the next step**"
      ],
      "metadata": {
        "id": "795l8DJg6qg2"
      }
    },
    {
      "cell_type": "code",
      "source": [
        "# train validation split\n",
        "X_train,X_val,y_train,y_val=train_test_split(X,y,test_size=0.33,random_state=41)"
      ],
      "metadata": {
        "id": "OzGsyejlfWVJ"
      },
      "execution_count": 3,
      "outputs": []
    },
    {
      "cell_type": "markdown",
      "source": [
        "# Models"
      ],
      "metadata": {
        "id": "mfpEzgpRehkE"
      }
    },
    {
      "cell_type": "markdown",
      "source": [
        "## RandomForest"
      ],
      "metadata": {
        "id": "jhUa9Lzrelxc"
      }
    },
    {
      "cell_type": "code",
      "source": [
        "randomForestC=RandomForestClassifier() #instancing\n",
        "randomForestC.get_params() #let check the parameters of the model"
      ],
      "metadata": {
        "id": "CI-ZKP4TeoIT",
        "colab": {
          "base_uri": "https://localhost:8080/"
        },
        "outputId": "10c6c23f-e86f-42d7-8387-72bce9db02b1"
      },
      "execution_count": 4,
      "outputs": [
        {
          "output_type": "execute_result",
          "data": {
            "text/plain": [
              "{'bootstrap': True,\n",
              " 'ccp_alpha': 0.0,\n",
              " 'class_weight': None,\n",
              " 'criterion': 'gini',\n",
              " 'max_depth': None,\n",
              " 'max_features': 'auto',\n",
              " 'max_leaf_nodes': None,\n",
              " 'max_samples': None,\n",
              " 'min_impurity_decrease': 0.0,\n",
              " 'min_samples_leaf': 1,\n",
              " 'min_samples_split': 2,\n",
              " 'min_weight_fraction_leaf': 0.0,\n",
              " 'n_estimators': 100,\n",
              " 'n_jobs': None,\n",
              " 'oob_score': False,\n",
              " 'random_state': None,\n",
              " 'verbose': 0,\n",
              " 'warm_start': False}"
            ]
          },
          "metadata": {},
          "execution_count": 4
        }
      ]
    },
    {
      "cell_type": "code",
      "source": [
        "parameters={'criterion':('gini','entropy'),\n",
        "            'n_estimators':(100,200,300),\n",
        "            'max_samples':(1/4,2/4,3/4)\n",
        "            } #dictionary with selected parameters to begin the hyperparemeter search\n",
        "gridCV_RF=GridSearchCV(randomForestC,parameters,scoring='accuracy') #create gridSearch variable\n",
        "gridCV_RF.fit(X_train,y_train) #fitting\n",
        "gridCV_RF.best_score_ ,gridCV_RF.best_params_ #best hyperparameter, best accuracy result"
      ],
      "metadata": {
        "colab": {
          "base_uri": "https://localhost:8080/"
        },
        "id": "nWxUTtpZFD9T",
        "outputId": "b1d5192e-f737-436d-9cd0-88a24b868cef"
      },
      "execution_count": 5,
      "outputs": [
        {
          "output_type": "execute_result",
          "data": {
            "text/plain": [
              "(0.5036086898809787,\n",
              " {'criterion': 'gini', 'max_samples': 0.25, 'n_estimators': 200})"
            ]
          },
          "metadata": {},
          "execution_count": 5
        }
      ]
    },
    {
      "cell_type": "markdown",
      "source": [
        "## Neural network"
      ],
      "metadata": {
        "id": "Tvofi33lsoG9"
      }
    },
    {
      "cell_type": "code",
      "source": [
        "%pip install scikeras"
      ],
      "metadata": {
        "colab": {
          "base_uri": "https://localhost:8080/"
        },
        "id": "S0k8VGyxtz4e",
        "outputId": "654a29cc-9028-464f-ffb5-aac6e1576ccf"
      },
      "execution_count": 10,
      "outputs": [
        {
          "output_type": "stream",
          "name": "stdout",
          "text": [
            "Looking in indexes: https://pypi.org/simple, https://us-python.pkg.dev/colab-wheels/public/simple/\n",
            "Collecting scikeras\n",
            "  Downloading scikeras-0.9.0-py3-none-any.whl (27 kB)\n",
            "Requirement already satisfied: scikit-learn>=1.0.0 in /usr/local/lib/python3.8/dist-packages (from scikeras) (1.0.2)\n",
            "Requirement already satisfied: packaging>=0.21 in /usr/local/lib/python3.8/dist-packages (from scikeras) (21.3)\n",
            "Requirement already satisfied: pyparsing!=3.0.5,>=2.0.2 in /usr/local/lib/python3.8/dist-packages (from packaging>=0.21->scikeras) (3.0.9)\n",
            "Requirement already satisfied: joblib>=0.11 in /usr/local/lib/python3.8/dist-packages (from scikit-learn>=1.0.0->scikeras) (1.2.0)\n",
            "Requirement already satisfied: numpy>=1.14.6 in /usr/local/lib/python3.8/dist-packages (from scikit-learn>=1.0.0->scikeras) (1.21.6)\n",
            "Requirement already satisfied: threadpoolctl>=2.0.0 in /usr/local/lib/python3.8/dist-packages (from scikit-learn>=1.0.0->scikeras) (3.1.0)\n",
            "Requirement already satisfied: scipy>=1.1.0 in /usr/local/lib/python3.8/dist-packages (from scikit-learn>=1.0.0->scikeras) (1.7.3)\n",
            "Installing collected packages: scikeras\n",
            "Successfully installed scikeras-0.9.0\n"
          ]
        }
      ]
    },
    {
      "cell_type": "code",
      "source": [
        "%pip install keras"
      ],
      "metadata": {
        "colab": {
          "base_uri": "https://localhost:8080/"
        },
        "id": "uZZz6d5cubs6",
        "outputId": "5abfd068-ab9f-4034-804a-7e5294a266d6"
      },
      "execution_count": 12,
      "outputs": [
        {
          "output_type": "stream",
          "name": "stdout",
          "text": [
            "Looking in indexes: https://pypi.org/simple, https://us-python.pkg.dev/colab-wheels/public/simple/\n",
            "Requirement already satisfied: keras in /usr/local/lib/python3.8/dist-packages (2.9.0)\n"
          ]
        }
      ]
    },
    {
      "cell_type": "code",
      "source": [
        "# Use scikit-learn to grid search the number of neurons\n",
        "import numpy as np\n",
        "import tensorflow as tf\n",
        "from sklearn.model_selection import GridSearchCV\n",
        "from tensorflow.keras.models import Sequential\n",
        "from tensorflow.keras.layers import Dense\n",
        "from tensorflow.keras.layers import Dropout\n",
        "from scikeras.wrappers import KerasClassifier\n",
        "from tensorflow.keras.constraints import MaxNorm\n",
        "# Function to create model, required for KerasClassifier\n",
        "def create_model(neurons):\n",
        "\t# create model\n",
        "\tmodel = Sequential()\n",
        "\tmodel.add(Dense(neurons, input_shape=(14,), kernel_initializer='uniform', activation='linear', kernel_constraint=MaxNorm(4)))\n",
        "\tmodel.add(Dropout(0.2))\n",
        "\tmodel.add(Dense(1, kernel_initializer='uniform', activation='sigmoid'))\n",
        "\t# Compile model\n",
        "\tmodel.compile(loss='binary_crossentropy', optimizer='adam', metrics=['accuracy'])\n",
        "\treturn model\n",
        "# fix random seed for reproducibility\n",
        "seed = 7\n",
        "tf.random.set_seed(seed)\n",
        "# create model\n",
        "model = KerasClassifier(model=create_model, epochs=100, batch_size=10, verbose=0)\n",
        "# define the grid search parameters\n",
        "neurons = [10, 15, 20, 25]\n",
        "param_grid = dict(model__neurons=neurons)\n",
        "grid = GridSearchCV(estimator=model, param_grid=param_grid, scoring='accuracy')\n",
        "grid_result = grid.fit(X_train, y_train)\n",
        "# summarize results\n",
        "print(\"Best: %f using %s\" % (grid_result.best_score_, grid_result.best_params_))"
      ],
      "metadata": {
        "colab": {
          "base_uri": "https://localhost:8080/"
        },
        "id": "bwZS_5gSsq42",
        "outputId": "83b14111-48ae-44a0-e950-7d60a9f8dab2"
      },
      "execution_count": 16,
      "outputs": [
        {
          "output_type": "stream",
          "name": "stdout",
          "text": [
            "Best: 0.506180 using {'model__neurons': 15}\n"
          ]
        }
      ]
    }
  ]
}