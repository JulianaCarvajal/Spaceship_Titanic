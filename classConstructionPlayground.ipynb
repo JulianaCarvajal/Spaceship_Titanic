{
  "nbformat": 4,
  "nbformat_minor": 0,
  "metadata": {
    "colab": {
      "provenance": [],
      "collapsed_sections": [
        "OGb867H73rRF"
      ],
      "authorship_tag": "ABX9TyOuUVQruPL5OB19Rfr1Xk1i",
      "include_colab_link": true
    },
    "kernelspec": {
      "name": "python3",
      "display_name": "Python 3"
    },
    "language_info": {
      "name": "python"
    }
  },
  "cells": [
    {
      "cell_type": "markdown",
      "metadata": {
        "id": "view-in-github",
        "colab_type": "text"
      },
      "source": [
        "<a href=\"https://colab.research.google.com/github/JulianaCarvajal/Spaceship_Titanic/blob/workOnPreprocess%2FBustamJos3/classConstructionPlayground.ipynb\" target=\"_parent\"><img src=\"https://colab.research.google.com/assets/colab-badge.svg\" alt=\"Open In Colab\"/></a>"
      ]
    },
    {
      "cell_type": "markdown",
      "source": [
        "# Working from remote\n",
        "Upload .py file and import class from it"
      ],
      "metadata": {
        "id": "q1V72fCt3lvk"
      }
    },
    {
      "cell_type": "code",
      "source": [
        "# import experimentalIterator as ei # inactive for now, class test on cell\n",
        "import pandas as pd #libraries\n",
        "from zipfile import ZipFile\n",
        "#call API\n",
        "%pip install kaggle\n",
        "#to upload kaggle token .json\n",
        "from google.colab import files"
      ],
      "metadata": {
        "colab": {
          "base_uri": "https://localhost:8080/"
        },
        "id": "arnMFoWY7NkT",
        "outputId": "e55ac5c2-c640-4cb1-957d-dadba2d2cb33"
      },
      "execution_count": 88,
      "outputs": [
        {
          "output_type": "stream",
          "name": "stdout",
          "text": [
            "Looking in indexes: https://pypi.org/simple, https://us-python.pkg.dev/colab-wheels/public/simple/\n",
            "Requirement already satisfied: kaggle in /usr/local/lib/python3.8/dist-packages (1.5.12)\n",
            "Requirement already satisfied: tqdm in /usr/local/lib/python3.8/dist-packages (from kaggle) (4.64.1)\n",
            "Requirement already satisfied: urllib3 in /usr/local/lib/python3.8/dist-packages (from kaggle) (1.24.3)\n",
            "Requirement already satisfied: requests in /usr/local/lib/python3.8/dist-packages (from kaggle) (2.23.0)\n",
            "Requirement already satisfied: python-dateutil in /usr/local/lib/python3.8/dist-packages (from kaggle) (2.8.2)\n",
            "Requirement already satisfied: certifi in /usr/local/lib/python3.8/dist-packages (from kaggle) (2022.9.24)\n",
            "Requirement already satisfied: six>=1.10 in /usr/local/lib/python3.8/dist-packages (from kaggle) (1.15.0)\n",
            "Requirement already satisfied: python-slugify in /usr/local/lib/python3.8/dist-packages (from kaggle) (7.0.0)\n",
            "Requirement already satisfied: text-unidecode>=1.3 in /usr/local/lib/python3.8/dist-packages (from python-slugify->kaggle) (1.3)\n",
            "Requirement already satisfied: idna<3,>=2.5 in /usr/local/lib/python3.8/dist-packages (from requests->kaggle) (2.10)\n",
            "Requirement already satisfied: chardet<4,>=3.0.2 in /usr/local/lib/python3.8/dist-packages (from requests->kaggle) (3.0.4)\n"
          ]
        }
      ]
    },
    {
      "cell_type": "code",
      "source": [
        "files.upload()\n",
        "#Make a directory named kaggle and copy the kaggle.json file there.\n",
        "!mkdir -p ~/.kaggle\n",
        "!cp kaggle.json ~/.kaggle/\n",
        "# change the permission of the file\n",
        "!chmod 600 ~/.kaggle/kaggle.json\n",
        "# Import data files from the Kaggle API\n",
        "!kaggle competitions download -c spaceship-titanic\n",
        "#unzip files\n",
        "file_name = \"spaceship-titanic.zip\" #the file is the dataset exact name\n",
        "with ZipFile(\"spaceship-titanic.zip\", 'r') as zip:\n",
        "  zip.extractall()\n",
        "  print('Done')\n",
        "# .zip is now not necessary\n",
        "!rm *.zip"
      ],
      "metadata": {
        "colab": {
          "base_uri": "https://localhost:8080/",
          "height": 143
        },
        "id": "GUi-C-oS_uDR",
        "outputId": "ff23180c-4cf9-40f9-81a6-5a280f643c22"
      },
      "execution_count": 89,
      "outputs": [
        {
          "output_type": "display_data",
          "data": {
            "text/plain": [
              "<IPython.core.display.HTML object>"
            ],
            "text/html": [
              "\n",
              "     <input type=\"file\" id=\"files-dadd9baf-daba-405a-94bf-53037f643021\" name=\"files[]\" multiple disabled\n",
              "        style=\"border:none\" />\n",
              "     <output id=\"result-dadd9baf-daba-405a-94bf-53037f643021\">\n",
              "      Upload widget is only available when the cell has been executed in the\n",
              "      current browser session. Please rerun this cell to enable.\n",
              "      </output>\n",
              "      <script>// Copyright 2017 Google LLC\n",
              "//\n",
              "// Licensed under the Apache License, Version 2.0 (the \"License\");\n",
              "// you may not use this file except in compliance with the License.\n",
              "// You may obtain a copy of the License at\n",
              "//\n",
              "//      http://www.apache.org/licenses/LICENSE-2.0\n",
              "//\n",
              "// Unless required by applicable law or agreed to in writing, software\n",
              "// distributed under the License is distributed on an \"AS IS\" BASIS,\n",
              "// WITHOUT WARRANTIES OR CONDITIONS OF ANY KIND, either express or implied.\n",
              "// See the License for the specific language governing permissions and\n",
              "// limitations under the License.\n",
              "\n",
              "/**\n",
              " * @fileoverview Helpers for google.colab Python module.\n",
              " */\n",
              "(function(scope) {\n",
              "function span(text, styleAttributes = {}) {\n",
              "  const element = document.createElement('span');\n",
              "  element.textContent = text;\n",
              "  for (const key of Object.keys(styleAttributes)) {\n",
              "    element.style[key] = styleAttributes[key];\n",
              "  }\n",
              "  return element;\n",
              "}\n",
              "\n",
              "// Max number of bytes which will be uploaded at a time.\n",
              "const MAX_PAYLOAD_SIZE = 100 * 1024;\n",
              "\n",
              "function _uploadFiles(inputId, outputId) {\n",
              "  const steps = uploadFilesStep(inputId, outputId);\n",
              "  const outputElement = document.getElementById(outputId);\n",
              "  // Cache steps on the outputElement to make it available for the next call\n",
              "  // to uploadFilesContinue from Python.\n",
              "  outputElement.steps = steps;\n",
              "\n",
              "  return _uploadFilesContinue(outputId);\n",
              "}\n",
              "\n",
              "// This is roughly an async generator (not supported in the browser yet),\n",
              "// where there are multiple asynchronous steps and the Python side is going\n",
              "// to poll for completion of each step.\n",
              "// This uses a Promise to block the python side on completion of each step,\n",
              "// then passes the result of the previous step as the input to the next step.\n",
              "function _uploadFilesContinue(outputId) {\n",
              "  const outputElement = document.getElementById(outputId);\n",
              "  const steps = outputElement.steps;\n",
              "\n",
              "  const next = steps.next(outputElement.lastPromiseValue);\n",
              "  return Promise.resolve(next.value.promise).then((value) => {\n",
              "    // Cache the last promise value to make it available to the next\n",
              "    // step of the generator.\n",
              "    outputElement.lastPromiseValue = value;\n",
              "    return next.value.response;\n",
              "  });\n",
              "}\n",
              "\n",
              "/**\n",
              " * Generator function which is called between each async step of the upload\n",
              " * process.\n",
              " * @param {string} inputId Element ID of the input file picker element.\n",
              " * @param {string} outputId Element ID of the output display.\n",
              " * @return {!Iterable<!Object>} Iterable of next steps.\n",
              " */\n",
              "function* uploadFilesStep(inputId, outputId) {\n",
              "  const inputElement = document.getElementById(inputId);\n",
              "  inputElement.disabled = false;\n",
              "\n",
              "  const outputElement = document.getElementById(outputId);\n",
              "  outputElement.innerHTML = '';\n",
              "\n",
              "  const pickedPromise = new Promise((resolve) => {\n",
              "    inputElement.addEventListener('change', (e) => {\n",
              "      resolve(e.target.files);\n",
              "    });\n",
              "  });\n",
              "\n",
              "  const cancel = document.createElement('button');\n",
              "  inputElement.parentElement.appendChild(cancel);\n",
              "  cancel.textContent = 'Cancel upload';\n",
              "  const cancelPromise = new Promise((resolve) => {\n",
              "    cancel.onclick = () => {\n",
              "      resolve(null);\n",
              "    };\n",
              "  });\n",
              "\n",
              "  // Wait for the user to pick the files.\n",
              "  const files = yield {\n",
              "    promise: Promise.race([pickedPromise, cancelPromise]),\n",
              "    response: {\n",
              "      action: 'starting',\n",
              "    }\n",
              "  };\n",
              "\n",
              "  cancel.remove();\n",
              "\n",
              "  // Disable the input element since further picks are not allowed.\n",
              "  inputElement.disabled = true;\n",
              "\n",
              "  if (!files) {\n",
              "    return {\n",
              "      response: {\n",
              "        action: 'complete',\n",
              "      }\n",
              "    };\n",
              "  }\n",
              "\n",
              "  for (const file of files) {\n",
              "    const li = document.createElement('li');\n",
              "    li.append(span(file.name, {fontWeight: 'bold'}));\n",
              "    li.append(span(\n",
              "        `(${file.type || 'n/a'}) - ${file.size} bytes, ` +\n",
              "        `last modified: ${\n",
              "            file.lastModifiedDate ? file.lastModifiedDate.toLocaleDateString() :\n",
              "                                    'n/a'} - `));\n",
              "    const percent = span('0% done');\n",
              "    li.appendChild(percent);\n",
              "\n",
              "    outputElement.appendChild(li);\n",
              "\n",
              "    const fileDataPromise = new Promise((resolve) => {\n",
              "      const reader = new FileReader();\n",
              "      reader.onload = (e) => {\n",
              "        resolve(e.target.result);\n",
              "      };\n",
              "      reader.readAsArrayBuffer(file);\n",
              "    });\n",
              "    // Wait for the data to be ready.\n",
              "    let fileData = yield {\n",
              "      promise: fileDataPromise,\n",
              "      response: {\n",
              "        action: 'continue',\n",
              "      }\n",
              "    };\n",
              "\n",
              "    // Use a chunked sending to avoid message size limits. See b/62115660.\n",
              "    let position = 0;\n",
              "    do {\n",
              "      const length = Math.min(fileData.byteLength - position, MAX_PAYLOAD_SIZE);\n",
              "      const chunk = new Uint8Array(fileData, position, length);\n",
              "      position += length;\n",
              "\n",
              "      const base64 = btoa(String.fromCharCode.apply(null, chunk));\n",
              "      yield {\n",
              "        response: {\n",
              "          action: 'append',\n",
              "          file: file.name,\n",
              "          data: base64,\n",
              "        },\n",
              "      };\n",
              "\n",
              "      let percentDone = fileData.byteLength === 0 ?\n",
              "          100 :\n",
              "          Math.round((position / fileData.byteLength) * 100);\n",
              "      percent.textContent = `${percentDone}% done`;\n",
              "\n",
              "    } while (position < fileData.byteLength);\n",
              "  }\n",
              "\n",
              "  // All done.\n",
              "  yield {\n",
              "    response: {\n",
              "      action: 'complete',\n",
              "    }\n",
              "  };\n",
              "}\n",
              "\n",
              "scope.google = scope.google || {};\n",
              "scope.google.colab = scope.google.colab || {};\n",
              "scope.google.colab._files = {\n",
              "  _uploadFiles,\n",
              "  _uploadFilesContinue,\n",
              "};\n",
              "})(self);\n",
              "</script> "
            ]
          },
          "metadata": {}
        },
        {
          "output_type": "stream",
          "name": "stdout",
          "text": [
            "Saving kaggle.json to kaggle (2).json\n",
            "Downloading spaceship-titanic.zip to /content\n",
            "  0% 0.00/299k [00:00<?, ?B/s]\n",
            "100% 299k/299k [00:00<00:00, 83.1MB/s]\n",
            "Done\n"
          ]
        }
      ]
    },
    {
      "cell_type": "markdown",
      "source": [
        "# End of working from remote"
      ],
      "metadata": {
        "id": "6hJW_D-p3o51"
      }
    },
    {
      "cell_type": "markdown",
      "source": [
        "# Working from local"
      ],
      "metadata": {
        "id": "OGb867H73rRF"
      }
    },
    {
      "cell_type": "code",
      "source": [
        "import experimentalIterator as ei\n",
        "from zipfile import ZipFile\n",
        "#call API\n",
        "%pip install kaggle"
      ],
      "metadata": {
        "id": "cK_pPA3nJerC"
      },
      "execution_count": null,
      "outputs": []
    },
    {
      "cell_type": "markdown",
      "source": [
        "# End of working from local"
      ],
      "metadata": {
        "id": "y7acWBvC3tEl"
      }
    },
    {
      "cell_type": "markdown",
      "source": [
        "# Testing of class"
      ],
      "metadata": {
        "id": "o66pKKvIAW6e"
      }
    },
    {
      "cell_type": "code",
      "source": [
        "class experimentalIterator: # class construction\n",
        "\n",
        "    from numpy import concatenate\n",
        "    global concat\n",
        "    concat=concatenate\n",
        "    from sklearn.preprocessing import LabelEncoder #BustamJos3 preprocess  #convert categorical to numerical\n",
        "    global labelEncoder\n",
        "    labelEncoder=LabelEncoder()\n",
        "    from sklearn.model_selection import train_test_split #BustamJos3 for models # import train_test split function\n",
        "    global train_test\n",
        "    train_test=train_test_split\n",
        "    from sklearn.ensemble import RandomForestClassifier #import RandomForest\n",
        "    global randomForestC\n",
        "    randomForestC = RandomForestClassifier()\n",
        "    from sklearn.tree import DecisionTreeClassifier\n",
        "    global decisionTreeClassifier\n",
        "    decisionTreeClassifier=DecisionTreeClassifier()\n",
        "    \n",
        "    def __init__(self, X, y):\n",
        "        self._X = self.Prepocess_Spaceship_Titanic( X )#store as attribute X data of dataset\n",
        "        self._y = labelEncoder.fit_transform(y.values) #to numeric\n",
        "        self._preproX=0\n",
        "        self._XTrain=0\n",
        "        self._yTrain=0\n",
        "        self._XTest=0\n",
        "        self._yTest=0\n",
        "        self._randomFC=randomForestC\n",
        "        self._decisionTreeClassifier=decisionTreeClassifier\n",
        "    \n",
        "    def Prepocess_Spaceship_Titanic(self, d):\n",
        "        for i in range(len(d)):\n",
        "            if (d['HomePlanet'].isna()[i] == True and type(d['Cabin'][i])!= float):\n",
        "                if d['Cabin'][i][0] in 'ABCT':\n",
        "                    d.loc[i,'HomePlanet']='Europa'\n",
        "                elif d['Cabin'][i][0] == 'G':\n",
        "                    d.loc[i,'HomePlanet'] = 'Earth'\n",
        "            elif (d['RoomService'].isna()[i]== True and d['CryoSleep'][i]==True) or (d['RoomService'].isna()[i]== True and d['Age'][i]<=12):\n",
        "                d.loc[i,'RoomService']= float(0)\n",
        "            elif (d['FoodCourt'].isna()[i]== True and d['CryoSleep'][i]==True) or (d['FoodCourt'].isna()[i]== True and d['Age'][i]<=12):\n",
        "                d.loc[i,'FoodCourt']= float(0)   \n",
        "            elif (d['ShoppingMall'].isna()[i]== True and d['CryoSleep'][i]==True) or (d['ShoppingMall'].isna()[i]== True and d['Age'][0]<=12):\n",
        "                d.loc[i,'ShoppingMall']= float(0) \n",
        "            elif (d['Spa'].isna()[i]== True and d['CryoSleep'][i]==True) or (d['Spa'].isna()[i]== True and d['Age'][i]<=12):\n",
        "                d.loc[i,'Spa']= float(0) \n",
        "            elif (d['VRDeck'].isna()[i]== True and d['CryoSleep'][i]==True) or (d['VRDeck'].isna()[i]== True and d['Age'][i]<=12):\n",
        "                d.loc[i,'VRDeck']= float(0)\n",
        "            elif d['CryoSleep'].isna()[i]== True and d['RoomService'][i]==float(0) and d['FoodCourt'][i]==float(0) and d['ShoppingMall'][i]==float(0) and d['Spa'][i]==float(0) and d['VRDeck'][i]== float(0):\n",
        "                d.loc[i,'CryoSleep']=True\n",
        "            elif (d['CryoSleep'].isna()[i]== True and d['RoomService'][i] != 0  and d['FoodCourt'][i] != 0):\n",
        "                d.loc[i,'CryoSleep'] = False\n",
        "            elif (d['VIP'].isna()[i]== True and d['HomePlanet'][i]=='Earth'):\n",
        "                d.loc[i,'VIP']=False\n",
        "            elif (d['VIP'].isna()[i]== True and type(d['Cabin'][i])!= float):\n",
        "                if d['Cabin'][i][0]=='G' or d['Cabin'][i][0]=='T':\n",
        "                    d.loc[i,'VIP']=False\n",
        "            elif (d['VIP'].isna()[i]== True and d['Age'][i]<25 and d['HomePlanet'][i]=='Europe'):\n",
        "                d.loc[i,'VIP']=False\n",
        "            elif (d['VIP'].isna()[i]== True and d['Age'][i]<18 and d['HomePlanet'][i]=='Mars'):\n",
        "                d.loc[i,'VIP']=False\n",
        "            elif (d['VIP'].isna()[i]== True and d['HomePlanet'][i] == 'Mars' and d['CryoSleep'][i]==True):\n",
        "                d.loc[i,'VIP']=False\n",
        "            elif (d['VIP'].isna()[i]== True and d['HomePlanet'][i] == 'Europa' and d['CryoSleep'][i] == True and d['Age'][i] < 25):\n",
        "                d.loc[i,'VIP'] = False\n",
        "            elif (d['Destination'].isna()[i]== True and d['Age'][i]>18 and d['RoomService'][i]== float(0) and d['FoodCourt'][i]== float(0) and d['ShoppingMall'][i]== float(0) and d['Spa'][i]== float(0) and d['VRDeck'][i]== float(0) and d['CryoSleep'][i]==False):\n",
        "                d.loc[i,'Destination']= 'TRAPPIST-1e'\n",
        "            elif i<(len(d)-4):\n",
        "                for j in range(1,5): #Suponiendo una familia de max 5 integrantes\n",
        "                    if type(d['Name'][i])!= float:\n",
        "                        if type(d['Name'][i+j])!= float:\n",
        "                            if d['Destination'].isna()[i]== True and (d['Name'][i].split()[1] == d['Name'][i+j].split()[1]):\n",
        "                                d.loc[i,'Destination']=d['Destination'][i+j]\n",
        "                    if d['HomePlanet'].isna()[i]== True and (d['PassengerId'][i][:4]==d['PassengerId'][i+j][:4]):\n",
        "                        d.loc[i,'HomePlanet']=d['HomePlanet'][i+j]\n",
        "\n",
        "            elif i>=(len(d)-4):\n",
        "                for j in range(1,len(d)-i): \n",
        "                    if type(d['Name'][i])!= float:\n",
        "                        if type(d['Name'][i+j])!= float:\n",
        "                            if d['Destination'].isna()[i]== True and (d['Name'][i].split()[1] == d['Name'][i+j].split()[1]):\n",
        "                                d.loc[i,'Destination']=d['Destination'][i+j]\n",
        "                    if d['HomePlanet'].isna()[i]== True and (d['PassengerId'][i][:4]==d['PassengerId'][i+j][:4]):\n",
        "                        d.loc[i,'HomePlanet']=d['HomePlanet'][i+j]\n",
        "        return d\n",
        "    \n",
        "    def dtypeConvertion(self, dataFrame): #convert dtypes to best fit #previous to BustamJos3 preprocess\n",
        "        df=dataFrame.copy()\n",
        "        return df.convert_dtypes(infer_objects=True)\n",
        "    \n",
        "    def typeSeeker(self, type, dataFrame): #seek for name of cols which match the type\n",
        "        df=self.dtypeConvertion(dataFrame).copy()\n",
        "        listDtype=[str(i) for i in (df.dtypes==type).loc[(df.dtypes==type)==True].index] # take name cols which are categorical\n",
        "        return listDtype\n",
        "\n",
        "    def convertToNumeric(self, dataFrame):\n",
        "        df=dataFrame.copy()\n",
        "        df.drop(['PassengerId','Name'], axis=1,inplace=True)\n",
        "        listCategoric=self.typeSeeker('string',df)\n",
        "        df.loc[:,listCategoric].fillna('wanted',inplace=True) #to handle oneHotEncoder, replace NaN values with 'wanted'\n",
        "        for i in listCategoric: # labelEncoding and replacing consecutively\n",
        "            array_to_replace=labelEncoder.fit_transform( df.loc[:,i].values ) #labelEncoding\n",
        "            to_search=len(labelEncoder.classes_)-1 #store No. of categorie for 'wanted\n",
        "            for j in range(len(array_to_replace)):\n",
        "                if array_to_replace[j] == to_search:\n",
        "                    array_to_replace[j]=-1\n",
        "            df.loc[:,i]=array_to_replace\n",
        "        return df.loc[:,listCategoric].values\n",
        "\n",
        "    def preProcess(self):  # start of BustamJos3 preprocess\n",
        "        XCategoric = self.convertToNumeric(self._X)\n",
        "        # Transformation on categorical cols with labelEncoder and NaN Imputation categorical\n",
        "        from sklearn.impute import KNNImputer # nan imputation\n",
        "        KNNImputer(n_neighbors=1, missing_values=-1,weights='distance', copy=False) #imputation for categoric\n",
        "        KNNImputer().fit_transform( XCategoric ) #imputation\n",
        "        from sklearn.preprocessing import OneHotEncoder #oneHotEncoding for categoric cols\n",
        "        oneHotEncoder=OneHotEncoder(handle_unknown='error', sparse=False)\n",
        "        convertedOHE=oneHotEncoder.fit_transform(XCategoric[:,[0,2]]) # tranformation to get convertion to OHE  #array with categories of n-categoric cols\n",
        "        # .reshape on XCategoric for dimensionality  and concatenate\n",
        "        convertedOHE= concat( (convertedOHE.reshape(-1,8), XCategoric[:,1].reshape(-1,1)), axis=1 )\n",
        "        # nanImputation for numeric cols\n",
        "        listNumeric=self.typeSeeker('Int64', self._X) #numeric col names\n",
        "        XNumeric=self._X[listNumeric].fillna(-1).values # take the numeric types only\n",
        "        KNNImputer(n_neighbors=1, missing_values=-1,weights='distance')\n",
        "        imputedNumeric=KNNImputer().fit_transform(XNumeric)\n",
        "        from sklearn.preprocessing import StandardScaler # standardization\n",
        "        imputedNumeric=StandardScaler().fit_transform(imputedNumeric) # standardization\n",
        "        self._preproX = concat( (imputedNumeric, convertedOHE), axis=1 )\n",
        "        #TODO\n",
        "        # 1. Import and tun Neural Network\n",
        "\n",
        "    def trainTestSplit(self): #to implement models\n",
        "        self._XTrain, self._XTest, self._yTrain, self._yTest=train_test(self._preproX, self._y, test_size=0.33, random_state=41)\n",
        "    \n",
        "    def gridCVHyperparameter(self, model, params):\n",
        "        from sklearn.model_selection import GridSearchCV # hyperparameter getter\n",
        "        gridSearchCV=GridSearchCV(model, params, scoring='accuracy')\n",
        "        self.trainTestSplit()\n",
        "        gridSearchCV.fit(self._XTrain, self._yTrain)\n",
        "        return gridSearchCV.best_estimator_, gridSearchCV.best_score_\n",
        "    \n",
        "    def confusionMatrix(self, model):\n",
        "        from sklearn import metrics\n",
        "        model.fit(self._XTrain, self._yTrain)\n",
        "        confusion_matrix = metrics.confusion_matrix(self._yTest, model.predict(self._XTest) )\n",
        "        matrix_df = pd.DataFrame(confusion_matrix)\n",
        "        import matplotlib.pyplot as plt #visualization\n",
        "        ax = plt.axes()\n",
        "        import seaborn as sns\n",
        "        sns.set(font_scale=1.3)\n",
        "        plt.figure(figsize=(10,7))\n",
        "        sns.heatmap(matrix_df, annot=True, fmt=\"g\", ax=ax, cmap=\"magma\")\n",
        "        ax.set_title('Confusion Matrix')\n",
        "        ax.set_xlabel(\"Predicted label\", fontsize =15)\n",
        "        ax.set_ylabel(\"True Label\", fontsize=15)\n",
        "        from numpy import unique\n",
        "        labels=unique(self._y)\n",
        "        ax.set_yticklabels(list(labels), rotation = 0)\n",
        "        return plt"
      ],
      "metadata": {
        "id": "InPDtSjC6ez_"
      },
      "execution_count": 90,
      "outputs": []
    },
    {
      "cell_type": "code",
      "source": [
        "X, y = pd.read_csv( 'train.csv' ).iloc[:, :-1], pd.read_csv( 'train.csv' ).iloc[:, -1]\n",
        "exp_iterator = experimentalIterator( X, y )\n",
        "exp_iterator.preProcess()\n",
        "exp_iterator._preproX"
      ],
      "metadata": {
        "id": "Mi65Aw7-AZo2",
        "outputId": "cd9e3062-d9b6-4650-9432-5bc771d10ac2",
        "colab": {
          "base_uri": "https://localhost:8080/"
        }
      },
      "execution_count": 91,
      "outputs": [
        {
          "output_type": "execute_result",
          "data": {
            "text/plain": [
              "array([[ 7.21448506e-01, -3.33083564e-01, -2.81018407e-01, ...,\n",
              "         0.00000000e+00,  1.00000000e+00,  1.49000000e+02],\n",
              "       [-2.81839266e-01, -1.68053382e-01, -2.75378257e-01, ...,\n",
              "         0.00000000e+00,  1.00000000e+00,  2.18400000e+03],\n",
              "       [ 1.99227968e+00, -2.67979914e-01,  1.96000111e+00, ...,\n",
              "         0.00000000e+00,  1.00000000e+00,  1.00000000e+00],\n",
              "       ...,\n",
              "       [-1.48067563e-01, -3.33083564e-01, -2.81018407e-01, ...,\n",
              "         0.00000000e+00,  1.00000000e+00,  5.28500000e+03],\n",
              "       [ 2.53247546e-01, -3.33083564e-01,  3.76372385e-01, ...,\n",
              "         0.00000000e+00,  0.00000000e+00,  2.13100000e+03],\n",
              "       [ 1.05587776e+00, -1.42314730e-01,  2.65687295e+00, ...,\n",
              "         0.00000000e+00,  1.00000000e+00,  2.13100000e+03]])"
            ]
          },
          "metadata": {},
          "execution_count": 91
        }
      ]
    },
    {
      "cell_type": "code",
      "source": [
        "parameters={'criterion':['gini'],\n",
        "            'n_estimators':[300],\n",
        "            'max_samples':[1/4]\n",
        "            } #dictionary with selected parameters to begin the hyperparemeter search\n",
        "bestRFC, accuracyRFC=exp_iterator.gridCVHyperparameter(exp_iterator._randomFC, parameters)\n",
        "bestRFC, accuracyRFC"
      ],
      "metadata": {
        "id": "8TLobml2Ts5Q",
        "outputId": "e335bd27-df1a-490d-e2e1-4e57799c889a",
        "colab": {
          "base_uri": "https://localhost:8080/"
        }
      },
      "execution_count": 92,
      "outputs": [
        {
          "output_type": "execute_result",
          "data": {
            "text/plain": [
              "(RandomForestClassifier(max_samples=0.25, n_estimators=300),\n",
              " 0.7948136513133637)"
            ]
          },
          "metadata": {},
          "execution_count": 92
        }
      ]
    },
    {
      "cell_type": "code",
      "source": [
        "exp_iterator.confusionMatrix(bestRFC).show()"
      ],
      "metadata": {
        "id": "HFwvPkRw8jOK",
        "colab": {
          "base_uri": "https://localhost:8080/",
          "height": 326
        },
        "outputId": "14955fe9-2db6-4487-fc09-5271fc750c91"
      },
      "execution_count": 93,
      "outputs": [
        {
          "output_type": "display_data",
          "data": {
            "text/plain": [
              "<Figure size 432x288 with 2 Axes>"
            ],
            "image/png": "[encoded data removed]"
          },
          "metadata": {}
        },
        {
          "output_type": "display_data",
          "data": {
            "text/plain": [
              "<Figure size 720x504 with 0 Axes>"
            ]
          },
          "metadata": {}
        }
      ]
    },
    {
      "cell_type": "code",
      "source": [
        "parameters={'max_depth':[7],\n",
        "            'random_state':[40],\n",
        "            'min_samples_leaf':[15]\n",
        "            } #dictionary with selected parameters to begin the hyperparemeter search\n",
        "bestDT, accuracyDT=exp_iterator.gridCVHyperparameter(exp_iterator._decisionTreeClassifier, parameters)\n",
        "bestDT, accuracyDT"
      ],
      "metadata": {
        "colab": {
          "base_uri": "https://localhost:8080/"
        },
        "id": "ZjMv1qlCd8Xy",
        "outputId": "604726cf-3dea-4605-cd10-7def43f35cee"
      },
      "execution_count": 94,
      "outputs": [
        {
          "output_type": "execute_result",
          "data": {
            "text/plain": [
              "(DecisionTreeClassifier(max_depth=7, min_samples_leaf=15, random_state=40),\n",
              " 0.7742082208751826)"
            ]
          },
          "metadata": {},
          "execution_count": 94
        }
      ]
    },
    {
      "cell_type": "code",
      "source": [
        "exp_iterator.confusionMatrix(bestDT).show()"
      ],
      "metadata": {
        "colab": {
          "base_uri": "https://localhost:8080/",
          "height": 326
        },
        "id": "ThkqJYWGf_e6",
        "outputId": "0eb8aa09-810c-4ccc-c068-b34d1782b576"
      },
      "execution_count": 95,
      "outputs": [
        {
          "output_type": "display_data",
          "data": {
            "text/plain": [
              "<Figure size 432x288 with 2 Axes>"
            ],
            "image/png": "[encoded data removed]"
          },
          "metadata": {}
        },
        {
          "output_type": "display_data",
          "data": {
            "text/plain": [
              "<Figure size 720x504 with 0 Axes>"
            ]
          },
          "metadata": {}
        }
      ]
    }
  ]
}