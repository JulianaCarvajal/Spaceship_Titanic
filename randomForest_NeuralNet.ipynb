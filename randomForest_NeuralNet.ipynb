{
  "nbformat": 4,
  "nbformat_minor": 0,
  "metadata": {
    "colab": {
      "provenance": [],
      "authorship_tag": "ABX9TyOe49vXt4xd7w5lU8p1wTE3",
      "include_colab_link": true
    },
    "kernelspec": {
      "name": "python3",
      "display_name": "Python 3"
    },
    "language_info": {
      "name": "python"
    }
  },
  "cells": [
    {
      "cell_type": "markdown",
      "metadata": {
        "id": "view-in-github",
        "colab_type": "text"
      },
      "source": [
        "<a href=\"https://colab.research.google.com/github/JulianaCarvajal/Spaceship_Titanic/blob/workOnPreprocess%2FBustamJos3/randomForest_NeuralNet.ipynb\" target=\"_parent\"><img src=\"https://colab.research.google.com/assets/colab-badge.svg\" alt=\"Open In Colab\"/></a>"
      ]
    },
    {
      "cell_type": "code",
      "execution_count": 8,
      "metadata": {
        "id": "CfYvJ8omde9Z"
      },
      "outputs": [],
      "source": [
        "import pandas as pd #libraries\n",
        "import numpy as np\n",
        "from sklearn.model_selection import train_test_split # import train_test split function\n",
        "from sklearn.model_selection import GridSearchCV # hyperparameter getter\n",
        "from sklearn.ensemble import RandomForestClassifier #import RandomForest\n",
        "from sklearn import metrics\n",
        "import seaborn as sns #visualization\n",
        "import matplotlib.pyplot as plt\n",
        "%matplotlib inline"
      ]
    },
    {
      "cell_type": "markdown",
      "source": [
        "# Working online"
      ],
      "metadata": {
        "id": "xdWia5CsCdhD"
      }
    },
    {
      "cell_type": "code",
      "source": [
        "X, y=pd.read_json(\"https://raw.githubusercontent.com/JulianaCarvajal/Spaceship_Titanic/workOnPreprocess/BustamJos3/pprocessedX.json\",orient='index').values, pd.read_json(\"https://raw.githubusercontent.com/JulianaCarvajal/Spaceship_Titanic/workOnPreprocess/BustamJos3/pprocessedy.json\",orient='index').values.flatten()"
      ],
      "metadata": {
        "id": "Q9er2X_oCf4I"
      },
      "execution_count": 26,
      "outputs": []
    },
    {
      "cell_type": "markdown",
      "source": [
        "# End of working online"
      ],
      "metadata": {
        "id": "kH1A9mVEChVg"
      }
    },
    {
      "cell_type": "markdown",
      "source": [
        "# Working local"
      ],
      "metadata": {
        "id": "MprKyTcZCknJ"
      }
    },
    {
      "cell_type": "code",
      "source": [
        "X, y=pd.read_json(\"pprocessedX.json\",orient='index').values, pd.read_json(\"pprocessedy.json\",orient='index').values"
      ],
      "metadata": {
        "id": "a9vAL8UdCyj-"
      },
      "execution_count": 1,
      "outputs": []
    },
    {
      "cell_type": "markdown",
      "source": [
        "# End of working local"
      ],
      "metadata": {
        "id": "ML_5HnXtCy7S"
      }
    },
    {
      "cell_type": "markdown",
      "source": [
        "### Train-Test splitting\n",
        "I think ```splitting``` shoulb be **on the next step**"
      ],
      "metadata": {
        "id": "795l8DJg6qg2"
      }
    },
    {
      "cell_type": "code",
      "source": [
        "# train validation split\n",
        "X_train,X_val,y_train,y_val=train_test_split(X,y,test_size=0.33,random_state=41)"
      ],
      "metadata": {
        "id": "OzGsyejlfWVJ"
      },
      "execution_count": 27,
      "outputs": []
    },
    {
      "cell_type": "markdown",
      "source": [
        "# Models"
      ],
      "metadata": {
        "id": "mfpEzgpRehkE"
      }
    },
    {
      "cell_type": "markdown",
      "source": [
        "## RandomForest"
      ],
      "metadata": {
        "id": "jhUa9Lzrelxc"
      }
    },
    {
      "cell_type": "code",
      "source": [
        "randomForestC=RandomForestClassifier() #instancing\n",
        "randomForestC.get_params() #let check the parameters of the model"
      ],
      "metadata": {
        "id": "CI-ZKP4TeoIT",
        "colab": {
          "base_uri": "https://localhost:8080/"
        },
        "outputId": "b13c2ffa-4e5f-4de0-924d-dd976c406305"
      },
      "execution_count": 24,
      "outputs": [
        {
          "output_type": "execute_result",
          "data": {
            "text/plain": [
              "{'bootstrap': True,\n",
              " 'ccp_alpha': 0.0,\n",
              " 'class_weight': None,\n",
              " 'criterion': 'gini',\n",
              " 'max_depth': None,\n",
              " 'max_features': 'auto',\n",
              " 'max_leaf_nodes': None,\n",
              " 'max_samples': None,\n",
              " 'min_impurity_decrease': 0.0,\n",
              " 'min_samples_leaf': 1,\n",
              " 'min_samples_split': 2,\n",
              " 'min_weight_fraction_leaf': 0.0,\n",
              " 'n_estimators': 100,\n",
              " 'n_jobs': None,\n",
              " 'oob_score': False,\n",
              " 'random_state': None,\n",
              " 'verbose': 0,\n",
              " 'warm_start': False}"
            ]
          },
          "metadata": {},
          "execution_count": 24
        }
      ]
    },
    {
      "cell_type": "code",
      "source": [
        "parameters={'criterion':('gini','entropy'),\n",
        "            'n_estimators':(100,200,300),\n",
        "            'max_samples':(1/4,2/4,3/4)\n",
        "            } #dictionary with selected parameters to begin the hyperparemeter search\n",
        "gridCV_RF=GridSearchCV(randomForestC,parameters,scoring='accuracy') #create gridSearch variable\n",
        "gridCV_RF.fit(X_train,y_train) #fitting\n",
        "gridCV_RF.best_score_ ,gridCV_RF.best_params_ #best hyperparameter, best accuracy result"
      ],
      "metadata": {
        "colab": {
          "base_uri": "https://localhost:8080/"
        },
        "id": "nWxUTtpZFD9T",
        "outputId": "68943417-13fa-41ad-a285-7c4fc329fc4f"
      },
      "execution_count": 28,
      "outputs": [
        {
          "output_type": "execute_result",
          "data": {
            "text/plain": [
              "(0.5042936153267554,\n",
              " {'criterion': 'entropy', 'max_samples': 0.25, 'n_estimators': 100})"
            ]
          },
          "metadata": {},
          "execution_count": 28
        }
      ]
    }
  ]
}